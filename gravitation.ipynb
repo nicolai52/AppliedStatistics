{
 "cells": [
  {
   "cell_type": "code",
   "execution_count": 1,
   "id": "6946e261",
   "metadata": {},
   "outputs": [],
   "source": [
    "import numpy as np\n",
    "import matplotlib.pyplot as plt\n",
    "from scipy import stats                      \n",
    "from iminuit import Minuit\n",
    "from iminuit.cost import LeastSquares\n",
    "from itertools import accumulate\n",
    "\n",
    "from sklearn.linear_model import LinearRegression\n",
    "from sklearn.model_selection import train_test_split\n",
    "from sklearn.metrics import mean_squared_error\n",
    "\n",
    "import pandas as pd"
   ]
  },
  {
   "cell_type": "code",
   "execution_count": 2,
   "id": "b0d7d0ad",
   "metadata": {},
   "outputs": [],
   "source": [
    "t1 = np.load('times_HLA.npy')\n",
    "t2_initial = np.load('times_DAZ.npy')\n",
    "times3_initial = np.load('times_LWN.npy')\n",
    "times4_initial = np.load('times_PVX.npy')\n",
    "\n",
    "t2 = [sum(t2_initial[i:i+2]) for i in range(0, len(t2_initial) ,2 )]\n",
    "t3 = [sum(times3_initial[i:i+3]) for i in range(0, len(times3_initial), 3)]\n",
    "t4 = [sum(times4_initial[i:i+3]) for i in range(0, len(times4_initial), 3)]\n",
    "del t2[-1]\n",
    "del t3[-1]\n",
    "del t4[-1]\n",
    "\n",
    "t1a = np.cumsum(t1)\n",
    "t2a = np.cumsum(t2)\n",
    "t3a = np.cumsum(t3)\n",
    "t4a = np.cumsum(t4)"
   ]
  },
  {
   "cell_type": "code",
   "execution_count": 3,
   "id": "95913e83",
   "metadata": {},
   "outputs": [
    {
     "name": "stdout",
     "output_type": "stream",
     "text": [
      "  Fit: a= 9.397+-0.003  b=-0.033+-0.066  p=1.0000\n"
     ]
    }
   ],
   "source": [
    "save_plots = False\n",
    "Minuit.print_level = 0\n",
    "\n",
    "#Uncertaintees\n",
    "a = 9.3\n",
    "b = 0\n",
    "sigmay = 0.2\n",
    "\n",
    "array_a = np.zeros(1)\n",
    "array_b = np.zeros(1)\n",
    "array_Chi2 = np.zeros(1)\n",
    "array_Prob = np.zeros(1)\n",
    "\n",
    "for iexp in range(1) : \n",
    "    x = np.arange(len(t2a))+1\n",
    "    y = np.array(t2a) \n",
    "    sy = sigmay*np.ones_like(x)\n",
    "\n",
    "    def fit_func(x, a, b): \n",
    "        return a*x + b\n",
    "    \n",
    "    chi2 = LeastSquares(x,y,sy,fit_func)\n",
    "    \n",
    "    def chi2_func(a,b):\n",
    "        return np.sum(((y - fit_func(x,a,b)) / sy)**2)\n",
    "    \n",
    "    mfit = Minuit(chi2_func,a=a,b=b)\n",
    "\n",
    "    mfit.migrad();\n",
    "    \n",
    "    a_fit = mfit.values['a']\n",
    "    b_fit = mfit.values['b']\n",
    "    sigma_a_fit = mfit.errors['a']\n",
    "    sigma_b_fit = mfit.errors['b']\n",
    "    \n",
    "    Nvar = 2                     \n",
    "    Ndof_fit = len(t2a) - Nvar\n",
    "    \n",
    "    Chi2_fit = mfit.fval                            \n",
    "    Prob_fit = stats.chi2.sf(Chi2_fit, Ndof_fit)\n",
    "    \n",
    "    \n",
    "    array_a[iexp] = a_fit\n",
    "    array_b[iexp] = b_fit\n",
    "    array_Chi2[iexp] = Chi2_fit\n",
    "    array_Prob[iexp] = Prob_fit\n",
    "    \n",
    "    \n",
    "    print(f\"  Fit: a={a_fit:6.3f}+-{sigma_a_fit:5.3f}  b={b_fit:5.3f}+-{sigma_b_fit:5.3f}  p={Prob_fit:6.4f}\")\n",
    "    \n"
   ]
  },
  {
   "cell_type": "code",
   "execution_count": 4,
   "id": "f554075b",
   "metadata": {},
   "outputs": [
    {
     "data": {
      "image/png": "[encoded data removed]",
      "text/plain": [
       "<Figure size 720x432 with 1 Axes>"
      ]
     },
     "execution_count": 4,
     "metadata": {},
     "output_type": "execute_result"
    }
   ],
   "source": [
    "fig, ax = plt.subplots(figsize=(10,6))\n",
    "ax.errorbar(x, y, sy, fmt='ro', ecolor='k', elinewidth=2, capsize=2, capthick=1)\n",
    "ax.plot(x, fit_func(x, *mfit.values[:]), '-r')      # Note how we can \"smartly\" input the fit values!\n",
    "plt.close()\n",
    "\n",
    "fit_info = [f'a = {a_fit:5.3f}' + r'$\\pm$' +  f\"{sigma_a_fit:5.3f}\",\n",
    "            f'b = {b_fit:5.3f}' + r'$\\pm$' + f\"{sigma_b_fit:5.3f}\",\n",
    "            f'Chi2 = {Chi2_fit:5.3f}',\n",
    "            f'Ndof = {Ndof_fit:d}',\n",
    "            f'Prob = {Prob_fit:5.3f}',\n",
    "]\n",
    "ax.text(0.05, 0.76, \"\\n\".join(fit_info), fontsize=14, transform = ax.transAxes)\n",
    "fig.tight_layout()\n",
    "if (save_plots) :\n",
    "    fig.savefig(\"FitToLine.pdf\")\n",
    "fig"
   ]
  },
  {
   "cell_type": "code",
   "execution_count": 32,
   "id": "710dc754",
   "metadata": {},
   "outputs": [],
   "source": [
    "column1_list = []\n",
    "column2_list = []\n",
    "\n",
    "with open('måling_ude_på_et_skråplan\\data_side_1_ball_2_tias.csv', 'r') as file:\n",
    "    for _ in range(15):\n",
    "        file.readline()\n",
    "    for line in file:\n",
    "        columns = line.strip().split(',')\n",
    "        if len(columns) == 2: \n",
    "            column1_list.append(columns[0])\n",
    "            column2_list.append(columns[1])"
   ]
  },
  {
   "cell_type": "code",
   "execution_count": 33,
   "id": "149f7455",
   "metadata": {},
   "outputs": [
    {
     "name": "stdout",
     "output_type": "stream",
     "text": [
      "max voltage: 4.947268245405789 time: 0.5426\n",
      "max voltage: 4.947608883919865 time: 0.8080000000000001\n",
      "max voltage: 4.947608883919865 time: 0.9894000000000001\n",
      "max voltage: 4.94794952243394 time: 1.1396\n",
      "max voltage: 4.948290160948016 time: 1.2596\n"
     ]
    }
   ],
   "source": [
    "indexes_column2 = [i for i, value in enumerate(column2_list) if float(value) > 3]\n",
    "float_column2 = [float(num) for num in column2_list]\n",
    "\n",
    "def find_indexes(a,b):\n",
    "    max_value = max(float_column2[a:b + 1])\n",
    "    max_index_in_slice = float_column2[a:b + 1].index(max_value)\n",
    "    max_index = a + max_index_in_slice\n",
    "    t_1 = column1_list[max_index]\n",
    "    return f\"max voltage: {max_value}\", f\"time: {t_1}\"\n",
    "\n",
    "    \n",
    "v1, t1 = find_indexes(5148, 5277) \n",
    "print(v1,t1)\n",
    "v2, t2 = find_indexes(6503, 6574) \n",
    "print(v2,t2)\n",
    "v3, t3 = find_indexes(7417, 7469) \n",
    "print(v3,t3)\n",
    "v4, t4 = find_indexes(8176, 8225) \n",
    "print(v4,t4)\n",
    "v5, t5 = find_indexes(8779, 8820) \n",
    "print(v5,t5)\n",
    "\n",
    "t = [0.5426,0.8080000000000001,0.9894000000000001,1.1396, 1.2596]\n",
    "\n"
   ]
  },
  {
   "cell_type": "code",
   "execution_count": 30,
   "id": "424fa90b",
   "metadata": {},
   "outputs": [],
   "source": [
    "sensor_afstand_1 = np.array([18.6,36.4,54.5,73.6,91.2]) / 100\n",
    "sensor_afstand_2 = np.array([18.7,36.3,54.6,73.5,91.2]) / 100\n",
    "sensor_afstand_3 = np.array([18.7,36.4,54.6,73.55,91.65]) / 100\n",
    "sensor_afstand_4 = np.array([18.4,36.4,54.5,73.5,91.2]) / 100\n",
    "samlet_afstand = (sensor_afstand_1 + sensor_afstand_2 + sensor_afstand_3 + sensor_afstand_4) / 4 \n",
    "\n",
    "d_r_inder = 0.006 \n",
    "bold_1 = 0.01\n",
    "\n",
    "vinkel_v = (76.1 + 76.5 + 76.1 + 76.2) / 4\n",
    "vinkel_h = (76 + 76.3 + 75.95 + 75.9) / 4 \n",
    "vinkel_v1 = (76.4 + 76.5 + 76.2 + 76.3) / 4\n",
    "vinkel_h1 = (75.9 + 76.5 + 76 + 76) / 4\n",
    "samlet_vinkel = (vinkel_v + vinkel_h + vinkel_v1 + vinkel_h1) / 4\n"
   ]
  },
  {
   "cell_type": "code",
   "execution_count": 21,
   "id": "1a79a655",
   "metadata": {},
   "outputs": [
    {
     "name": "stdout",
     "output_type": "stream",
     "text": [
      "  Fit: c= 1.132+-0.903  d=0.003+-0.490  p=0.9994\n"
     ]
    }
   ],
   "source": [
    "c = 5\n",
    "d = 0\n",
    "sigmay = 0.2\n",
    "\n",
    "array_c = np.zeros(1)\n",
    "array_d = np.zeros(1)\n",
    "array_Chi2 = np.zeros(1)\n",
    "array_Prob = np.zeros(1)\n",
    "\n",
    "for iexp in range(1) : \n",
    "    #x = np.arange(len(t))+1\n",
    "    x = np.array(t)\n",
    "    #y = np.array(t)\n",
    "    y = np.array(samlet_afstand)\n",
    "    sy = sigmay*np.ones_like(x)\n",
    "\n",
    "    def fit_func(x, c, d): \n",
    "        return (1/2)*c*x**2 + d*x\n",
    "    \n",
    "    chi2 = LeastSquares(x,y,sy,fit_func)\n",
    "    \n",
    "    def chi2_func(c,d):\n",
    "        return np.sum(((y - fit_func(x,c,d)) / sy)**2)\n",
    "    \n",
    "    mfit = Minuit(chi2_func,c=c,d=d)\n",
    "\n",
    "    mfit.migrad();\n",
    "    \n",
    "    c_fit = mfit.values['c']\n",
    "    d_fit = mfit.values['d']\n",
    "    sigma_c_fit = mfit.errors['c']\n",
    "    sigma_d_fit = mfit.errors['d']\n",
    "    \n",
    "    Nvar = 2                   \n",
    "    Ndof_fit = len(t) - Nvar\n",
    "    \n",
    "    Chi2_fit = mfit.fval                            \n",
    "    Prob_fit = stats.chi2.sf(Chi2_fit, Ndof_fit)\n",
    "    \n",
    "    \n",
    "    array_c[iexp] = c_fit\n",
    "    array_d[iexp] = d_fit\n",
    "    array_Chi2[iexp] = Chi2_fit\n",
    "    array_Prob[iexp] = Prob_fit\n",
    "    \n",
    "    \n",
    "    print(f\"  Fit: c={c_fit:6.3f}+-{sigma_c_fit:5.3f}  d={d_fit:5.3f}+-{sigma_d_fit:5.3f}  p={Prob_fit:6.4f}\")\n",
    "    \n"
   ]
  },
  {
   "cell_type": "code",
   "execution_count": 22,
   "id": "fe1370b9",
   "metadata": {},
   "outputs": [
    {
     "data": {
      "image/png": "[encoded data removed]",
      "text/plain": [
       "<Figure size 720x432 with 1 Axes>"
      ]
     },
     "execution_count": 22,
     "metadata": {},
     "output_type": "execute_result"
    }
   ],
   "source": [
    "fig, ax = plt.subplots(figsize=(10,6))\n",
    "ax.errorbar(x, y, sy, fmt='ro', ecolor='k', elinewidth=2, capsize=2, capthick=1)\n",
    "ax.plot(x, fit_func(x, *mfit.values[:]), '-r')      \n",
    "plt.close()\n",
    "\n",
    "#ax.invert_xaxis()\n",
    "#ax.invert_yaxis()\n",
    "\n",
    "fit_info = [f'c = {c_fit:5.3f}' + r'$\\pm$' +  f\"{sigma_c_fit:5.3f}\",\n",
    "            f'd = {d_fit:5.3f}' + r'$\\pm$' + f\"{sigma_d_fit:5.3f}\",\n",
    "            f'Chi2 = {Chi2_fit:5.3f}',\n",
    "            f'Ndof = {Ndof_fit:d}',\n",
    "            f'Prob = {Prob_fit:5.3f}',\n",
    "]\n",
    "ax.text(0.05, 0.76, \"\\n\".join(fit_info), fontsize=14, transform = ax.transAxes)\n",
    "fig.tight_layout()\n",
    "if (save_plots) :\n",
    "    fig.savefig(\"FitToLine.pdf\")\n",
    "fig"
   ]
  },
  {
   "cell_type": "code",
   "execution_count": 23,
   "id": "f9eea348",
   "metadata": {},
   "outputs": [
    {
     "name": "stdout",
     "output_type": "stream",
     "text": [
      "7.69973872684724\n"
     ]
    }
   ],
   "source": [
    "a_1 = 1.132 \n",
    "theta = np.deg2rad(180-samlet_vinkel-90)\n",
    "g = (a_1 / np.sin(theta)) * (1+(2/5)*(bold_1**2) / (bold_1**2 - d_r_inder**2))\n",
    "print(g)\n",
    "\n"
   ]
  }
 ],
 "metadata": {
  "kernelspec": {
   "display_name": "Python 3",
   "language": "python",
   "name": "python3"
  },
  "language_info": {
   "codemirror_mode": {
    "name": "ipython",
    "version": 3
   },
   "file_extension": ".py",
   "mimetype": "text/x-python",
   "name": "python",
   "nbconvert_exporter": "python",
   "pygments_lexer": "ipython3",
   "version": "3.8.8"
  }
 },
 "nbformat": 4,
 "nbformat_minor": 5
}
