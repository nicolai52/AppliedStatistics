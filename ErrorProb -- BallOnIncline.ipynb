{
 "cells": [
  {
   "cell_type": "code",
   "execution_count": 9,
   "id": "3ea01525-aa11-4206-b818-648167179252",
   "metadata": {},
   "outputs": [],
   "source": [
    "import numpy as np\n",
    "from sympy import *\n",
    "\n",
    "from IPython.core.display import Latex\n",
    "\n",
    "def lprint(*args,**kwargs):\n",
    "    \"\"\"Pretty print arguments as LaTeX using IPython display system \n",
    "    \n",
    "    Parameters\n",
    "    ----------\n",
    "    args : tuple \n",
    "        What to print (in LaTeX math mode)\n",
    "    kwargs : dict \n",
    "        optional keywords to pass to `display` \n",
    "    \"\"\"\n",
    "    display(Latex('$$'+' '.join(args)+'$$'),**kwargs)"
   ]
  },
  {
   "cell_type": "code",
   "execution_count": 77,
   "id": "5a66c294-736a-4d86-9079-5c2dde5d5989",
   "metadata": {},
   "outputs": [],
   "source": [
    "av_raw = np.array([1.38369726 , 1.52647019, 1.52659213, 1.52749639])\n",
    "ah_raw = np.array([1.39851553, 1.38763158, 1.40392744, 1.51344556])\n",
    "R1_raw = np.array([1, 1, 1, 1]) * 10**(-2) / 2\n",
    "R2_raw = np.array([1.25, 1.26, 1.255, 1.26]) * 10**(-2) / 2\n",
    "d_raw = np.array([0.6, 0.6, 0.6, 0.6]) * 10**(-2)\n",
    "thetav_raw = 90 - np.array([76.4, 76.5, 76.2, 76.3])\n",
    "thetah_raw = 90 - np.array([75.9, 76.5, 76.0, 76.0])\n",
    "Dtheta_raw = (90 - np.array([76.4, 76.5, 76.2, 76.3])) - (90 - np.array([75.9, 76.5, 76.0, 76.0]))\n",
    "\n",
    "mu_a = np.mean((av_raw + ah_raw)/2)\n",
    "mu_theta = np.deg2rad(np.mean((thetav_raw-Dtheta_raw + thetah_raw-Dtheta_raw)/2))\n",
    "mu_R = np.mean(R1_raw)\n",
    "mu_R2 = np.mean(R2_raw)\n",
    "mu_d = np.mean(d_raw)\n",
    "\n",
    "sig_a = np.std((av_raw + ah_raw)/2)\n",
    "sig_theta = np.deg2rad(np.std((thetav_raw + thetah_raw)/2))\n",
    "sig_R = np.std(R1_raw)\n",
    "sig_R2 = np.std(R2_raw)\n",
    "sig_d = np.std(d_raw)"
   ]
  },
  {
   "cell_type": "code",
   "execution_count": 82,
   "id": "7f29599c-750c-4b6e-9e17-f86cd076f124",
   "metadata": {},
   "outputs": [
    {
     "data": {
      "text/latex": [
       "$$g = \\frac{a \\left(\\frac{0.4 R^{2}}{R^{2} - \\frac{d^{2}}{4}} + 1\\right)}{\\sin{\\left(\\theta \\right)}}$$"
      ],
      "text/plain": [
       "<IPython.core.display.Latex object>"
      ]
     },
     "metadata": {},
     "output_type": "display_data"
    },
    {
     "data": {
      "text/latex": [
       "$$\\sigma_{g} = \\sqrt{\\frac{0.04 R^{4} a^{2} d^{2} \\sigma_{d}^{2}}{\\left(R^{2} - \\frac{d^{2}}{4}\\right)^{4} \\sin^{2}{\\left(\\theta \\right)}} + \\frac{0.64 a^{2} \\sigma_{R}^{2} \\left(- \\frac{R^{3}}{\\left(R^{2} - \\frac{d^{2}}{4}\\right)^{2}} + \\frac{R}{R^{2} - \\frac{d^{2}}{4}}\\right)^{2}}{\\sin^{2}{\\left(\\theta \\right)}} + \\frac{a^{2} \\sigma_{\\theta}^{2} \\left(\\frac{0.4 R^{2}}{R^{2} - \\frac{d^{2}}{4}} + 1\\right)^{2} \\cos^{2}{\\left(\\theta \\right)}}{\\sin^{4}{\\left(\\theta \\right)}} + \\frac{\\sigma_{a}^{2} \\left(\\frac{0.4 R^{2}}{R^{2} - \\frac{d^{2}}{4}} + 1\\right)^{2}}{\\sin^{2}{\\left(\\theta \\right)}}}$$"
      ],
      "text/plain": [
       "<IPython.core.display.Latex object>"
      ]
     },
     "metadata": {},
     "output_type": "display_data"
    },
    {
     "data": {
      "text/latex": [
       "$$g = (9.7795 \\pm 0.3267)\\,\\mathrm{m/s^2}$$"
      ],
      "text/plain": [
       "<IPython.core.display.Latex object>"
      ]
     },
     "metadata": {},
     "output_type": "display_data"
    }
   ],
   "source": [
    "a, theta, R, d = symbols(\"a, theta, R, d\")\n",
    "da, dtheta, dR, dd = symbols(\"sigma_a, sigma_theta, sigma_R, sigma_d\")\n",
    "\n",
    "g = a / sin(theta) * (1 + (2 / 5) * R**2 / (R**2 - (d / 2)**2))\n",
    "lprint(latex(Eq(symbols('g'),g)))\n",
    "\n",
    "dg = sqrt((g.diff(a) * da)**2 + (g.diff(theta) * dtheta)**2 + (g.diff(R) * dR)**2 + (g.diff(d) * dd)**2)\n",
    "lprint(latex(Eq(symbols('sigma_g'), dg)))\n",
    "\n",
    "fg = lambdify((a, theta, R, d),g)\n",
    "fdg = lambdify((a, da, theta, dtheta, R, dR, d, dd),dg) \n",
    "\n",
    "va, vda = mu_a, sig_a\n",
    "vtheta, vdtheta = mu_theta, sig_theta\n",
    "vR, vdR = mu_R, sig_R\n",
    "vd, vdd = mu_d, sig_d\n",
    "\n",
    "vg = fg(va, vtheta, vR, vd)\n",
    "vdg = fdg(va, vda, vtheta, vdtheta, vR, vdR, vd, vdd)\n",
    "lprint(fr'g = ({vg:.4f} \\pm {vdg:.4f})\\,\\mathrm{{m/s^2}}')"
   ]
  },
  {
   "cell_type": "code",
   "execution_count": null,
   "id": "268e55d7-33f9-439e-a210-dbfbff0ca22b",
   "metadata": {},
   "outputs": [],
   "source": []
  },
  {
   "cell_type": "code",
   "execution_count": null,
   "id": "3904dbc6-f9b1-4789-92c7-3cfb91dda5c9",
   "metadata": {},
   "outputs": [],
   "source": []
  },
  {
   "cell_type": "code",
   "execution_count": null,
   "id": "918d4f88-9cc0-40bf-8470-afc5d80265c9",
   "metadata": {},
   "outputs": [],
   "source": []
  }
 ],
 "metadata": {
  "kernelspec": {
   "display_name": ".venv",
   "language": "python",
   "name": "python3"
  },
  "language_info": {
   "codemirror_mode": {
    "name": "ipython",
    "version": 3
   },
   "file_extension": ".py",
   "mimetype": "text/x-python",
   "name": "python",
   "nbconvert_exporter": "python",
   "pygments_lexer": "ipython3",
   "version": "3.13.0"
  }
 },
 "nbformat": 4,
 "nbformat_minor": 5
}
